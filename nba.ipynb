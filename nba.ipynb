{
 "cells": [
  {
   "cell_type": "markdown",
   "metadata": {},
   "source": [
    "# Let's play with some NBA data!\n",
    "\n",
    "- The data set includes play-by-play for every regular season game from 2001 to 2018 and was downloaded [here](https://eightthirtyfour.com/).\n",
    "\n",
    "- My goal here is to understand the causes and effects of coach timeouts by analyzing the scores of adjacent minutes."
   ]
  },
  {
   "cell_type": "markdown",
   "metadata": {},
   "source": [
    "# Open data by season"
   ]
  },
  {
   "cell_type": "code",
   "execution_count": 3,
   "metadata": {},
   "outputs": [
    {
     "name": "stdout",
     "output_type": "stream",
     "text": [
      "['GAME_ID', 'HOMEDESCRIPTION', 'PCTIMESTRING', 'PERIOD', 'SCORE', 'VISITORDESCRIPTION']\n",
      "1230\n"
     ]
    }
   ],
   "source": [
    "import pandas as pd\n",
    "import numpy as np\n",
    "import matplotlib.pyplot as plt\n",
    "from scipy import stats\n",
    "# import mpld3\n",
    "# from mpld3 import plugins\n",
    "\n",
    "season = '2017-18'\n",
    "\n",
    "filename = 'C:/Users/Zaca/Dropbox/data_science/{season}_pbp.csv'.format(season=season)\n",
    "\n",
    "data = pd.read_csv(filename, usecols=['GAME_ID', 'HOMEDESCRIPTION', 'PCTIMESTRING', 'PERIOD', 'SCORE', 'VISITORDESCRIPTION'])\n",
    "\n",
    "# Here we are just print all the column names in our data file. \n",
    "# We are only interested in a few of them such as: GAME_ID, HOMEDESCRIPTION, PCTIMESTRING, PERIOD, SCORE, VISITORDESCRIPTION\n",
    "\n",
    "print(list(data))\n",
    "\n",
    "\n",
    "# Here I'm just checking to see the total of unique game IDs in each season file. \n",
    "# The total games in a season (non lockout) is 1230. Each of the 30 NBA teams play 82 games in a season: (30*82)/2\n",
    "# Divided by two because there are two teams involved in each game.\n",
    "\n",
    "game_count = np.unique(data['GAME_ID'])\n",
    "print(len(game_count))\n"
   ]
  },
  {
   "cell_type": "markdown",
   "metadata": {},
   "source": [
    "# Do some data cleaning.\n",
    "- Change time left in quarter to seconds for one."
   ]
  },
  {
   "cell_type": "code",
   "execution_count": 4,
   "metadata": {},
   "outputs": [],
   "source": [
    "def convert_time(times):\n",
    "    mins, secs = map(int, times.split(':'))\n",
    "    return 60*mins + secs\n",
    "\n",
    "data['PCTIMESTRING'] = data['PCTIMESTRING'].apply(convert_time)\n",
    "\n",
    "data['GLOBALTIMELEFT'] = data['PCTIMESTRING'] + (720*(4-data['PERIOD'].clip(upper=4)))"
   ]
  },
  {
   "cell_type": "markdown",
   "metadata": {},
   "source": [
    "- The SCORE and SCOREMARGIN columns are only updated in the raw data when there is a bucket. I'm going to fill those columns up."
   ]
  },
  {
   "cell_type": "code",
   "execution_count": 5,
   "metadata": {},
   "outputs": [],
   "source": [
    "# I want to clean up the score column so it is more accessible.\n",
    "\n",
    "temp_score = data['SCORE'].fillna(method='ffill').replace(np.nan, '0 - 0')\n",
    "temp_score = temp_score.str.split(\" - \", expand=True).astype('int32')\n",
    "\n",
    "data['HOMESCORE'] = temp_score[1]\n",
    "data['VISITORSCORE'] = temp_score[0]\n",
    "data['SCOREMARGIN'] = data['HOMESCORE'] - data['VISITORSCORE']\n",
    "\n",
    "data = data.drop(columns=['SCORE'])\n",
    "\n"
   ]
  },
  {
   "cell_type": "markdown",
   "metadata": {},
   "source": [
    "# Isolating timeouts\n",
    "\n",
    "- To do some very simple analysis, I will select only the rows when a timeout happened and we can check what the score was, for example.\n",
    "- So for now, let's just look at the distribution of timeouts by period and time left in the period.\n",
    "- The identity of the team asking for the timeout is not really relevant for this early analysis."
   ]
  },
  {
   "cell_type": "code",
   "execution_count": 6,
   "metadata": {
    "scrolled": true
   },
   "outputs": [
    {
     "name": "stdout",
     "output_type": "stream",
     "text": [
      "13234\n"
     ]
    },
    {
     "data": {
      "image/png": "[encoded data removed]",
      "text/plain": [
       "<Figure size 432x288 with 1 Axes>"
      ]
     },
     "metadata": {
      "needs_background": "light"
     },
     "output_type": "display_data"
    },
    {
     "data": {
      "image/png": "[encoded data removed]",
      "text/plain": [
       "<Figure size 432x288 with 1 Axes>"
      ]
     },
     "metadata": {
      "needs_background": "light"
     },
     "output_type": "display_data"
    }
   ],
   "source": [
    "# We can use vectorized string methods to filter (http://pandas.pydata.org/pandas-docs/stable/user_guide/text.html) our dataframe by partial string match.\n",
    "\n",
    "timeouts = data.loc[(data['HOMEDESCRIPTION'].str.contains(\"Timeout\", na=False)) | (data['VISITORDESCRIPTION'].str.contains(\"Timeout\", na=False))]\n",
    "print(len(timeouts))\n",
    "\n",
    "bins = np.linspace(1, 6, num=6)\n",
    "\n",
    "\n",
    "# Plot timeouts by period.\n",
    "plt.figure()\n",
    "plt.title('Number of timeouts asked in each quarter')\n",
    "plt.xlabel('Period')\n",
    "plt.ylabel('Counts')\n",
    "plt.xticks(bins + 0.5, range(1, 6))\n",
    "plt.hist(np.clip(timeouts['PERIOD'], bins[0], bins[-1]), bins);\n",
    "\n",
    "\n",
    "# Plot timeouts by time left in period.\n",
    "plt.figure()\n",
    "plt.title('Number of timeouts asked by time left in quarter')\n",
    "plt.xlabel('Time left in period')\n",
    "plt.ylabel('Counts')\n",
    "plt.xticks(np.linspace(0, 720, num=13), range(0, 13))\n",
    "plt.hist(timeouts['PCTIMESTRING'], bins= 96);\n"
   ]
  },
  {
   "cell_type": "markdown",
   "metadata": {},
   "source": [
    "- Let's try and get the frequency of timeouts over time. \n",
    "- For this we need to take into account which period we're on, and transform the time left in quarter into time left in game."
   ]
  },
  {
   "cell_type": "code",
   "execution_count": 7,
   "metadata": {},
   "outputs": [
    {
     "data": {
      "text/plain": [
       "<matplotlib.axes._subplots.AxesSubplot at 0x260004f4f98>"
      ]
     },
     "execution_count": 7,
     "metadata": {},
     "output_type": "execute_result"
    },
    {
     "data": {
      "image/png": "[encoded data removed]",
      "text/plain": [
       "<Figure size 432x288 with 1 Axes>"
      ]
     },
     "metadata": {
      "needs_background": "light"
     },
     "output_type": "display_data"
    }
   ],
   "source": [
    "timeouts['GLOBALTIMELEFT'].hist(bins=100)"
   ]
  },
  {
   "cell_type": "markdown",
   "metadata": {},
   "source": [
    "# Interactive plots\n",
    "\n",
    "- Bokeh does not have a built-in histogram glyph, but we can make our own using the quad glyph which allows us to specify the bottom, top, left, and right edges of each bar.\n",
    "\n",
    "- To create the data for the bars, we will use the numpy histogram function which calculates the number of data points in each specified bin."
   ]
  },
  {
   "cell_type": "code",
   "execution_count": 8,
   "metadata": {},
   "outputs": [],
   "source": [
    "from bokeh.plotting import figure\n",
    "from bokeh.io import show, output_notebook, output_file\n",
    "from bokeh.models import ColumnDataSource\n",
    "from bokeh.models import HoverTool\n",
    "from bokeh.resources import CDN\n",
    "from bokeh.embed import file_html\n",
    "\n",
    "# We clip the data so every timeout after the 4th is considered into the same window \"OT\"\n",
    "arr_hist, edges = np.histogram(timeouts['PERIOD'].clip(upper=5), bins=5, range=(1, 6))\n",
    "\n",
    "# Put the information in a dataframe\n",
    "timeout_periods = pd.DataFrame({'period': arr_hist, 'left': edges[:-1], 'right': edges[1:]})\n",
    "timeout_periods['percentage'] = timeout_periods['period']/timeout_periods['period'].sum()\n",
    "\n",
    "# Convert dataframe to column data source\n",
    "src = ColumnDataSource(timeout_periods)\n",
    "\n",
    "# Create the blank plot\n",
    "p = figure(plot_height = 500, plot_width = 500, \n",
    "           title = 'Period when timeout called',\n",
    "           x_axis_label = 'Quarter', \n",
    "           y_axis_label = 'Number of Timeouts')\n",
    "\n",
    "# Add a quad glyph\n",
    "p.quad(source = src, bottom=0, top='period', left='left', right='right', fill_color='gray', line_color='black')\n",
    "\n",
    "\n",
    "# Hover tool referring to our own data field using @ and\n",
    "# a position on the graph using $\n",
    "h = HoverTool(tooltips= [('Period ', '@period'), ('As % ', '@percentage')])\n",
    "\n",
    "\n",
    "# Add the hover tool to the graph\n",
    "p.add_tools(h)\n",
    "\n",
    "p.xaxis.ticker = [2, 3.5, 4]\n",
    "p.xaxis.visible = False\n",
    "p.xaxis.axis_label = \"Lot Number\"\n",
    "\n",
    "p.toolbar_location = None\n",
    "\n",
    "# Show the plot\n",
    "show(p)\n",
    "output_file(\"axes.html\")\n",
    "\n",
    "html = file_html(p, CDN, \"my plot\")\n",
    "\n",
    "# print(html)"
   ]
  },
  {
   "cell_type": "code",
   "execution_count": 9,
   "metadata": {},
   "outputs": [
    {
     "ename": "NameError",
     "evalue": "name 'plugins' is not defined",
     "output_type": "error",
     "traceback": [
      "\u001b[1;31m---------------------------------------------------------------------------\u001b[0m",
      "\u001b[1;31mNameError\u001b[0m                                 Traceback (most recent call last)",
      "\u001b[1;32m<ipython-input-9-47e9e0950fe6>\u001b[0m in \u001b[0;36m<module>\u001b[1;34m\u001b[0m\n\u001b[0;32m     34\u001b[0m \"\"\"\n\u001b[0;32m     35\u001b[0m \u001b[1;33m\u001b[0m\u001b[0m\n\u001b[1;32m---> 36\u001b[1;33m tooltip = plugins.PointHTMLTooltip(points[0], labels,\n\u001b[0m\u001b[0;32m     37\u001b[0m                                    voffset=10, hoffset=10, css=css)\n\u001b[0;32m     38\u001b[0m \u001b[0mplugins\u001b[0m\u001b[1;33m.\u001b[0m\u001b[0mconnect\u001b[0m\u001b[1;33m(\u001b[0m\u001b[0mfig\u001b[0m\u001b[1;33m,\u001b[0m \u001b[0mtooltip\u001b[0m\u001b[1;33m)\u001b[0m\u001b[1;33m\u001b[0m\u001b[1;33m\u001b[0m\u001b[0m\n",
      "\u001b[1;31mNameError\u001b[0m: name 'plugins' is not defined"
     ]
    },
    {
     "data": {
      "image/png": "[encoded data removed]",
      "text/plain": [
       "<Figure size 432x288 with 1 Axes>"
      ]
     },
     "metadata": {
      "needs_background": "light"
     },
     "output_type": "display_data"
    }
   ],
   "source": [
    "# Interactive plots with a different library that would allow me to keep uising matplotlib to style charts.\n",
    "\n",
    "# We clip the data so every timeout after the 4th is considered into the same window \"OT\"\n",
    "plt.figure()\n",
    "plt.title('Number of timeouts asked in each quarter')\n",
    "plt.xlabel('Period')\n",
    "plt.ylabel('Counts')\n",
    "plt.xticks(bins + 0.5, range(1, 6))\n",
    "arr_hist, edges = np.histogram(timeouts['PERIOD'].clip(upper=5), bins=5, range=(1, 6))\n",
    "plt.hist(timeouts['PERIOD'].clip(upper=5), bins=5, range=(1, 6));\n",
    "\n",
    "\n",
    "# Define some CSS to control our custom labels\n",
    "css = \"\"\"\n",
    "table\n",
    "{\n",
    "  border-collapse: collapse;\n",
    "}\n",
    "th\n",
    "{\n",
    "  color: #ffffff;\n",
    "  background-color: #000000;\n",
    "}\n",
    "td\n",
    "{\n",
    "  background-color: #cccccc;\n",
    "}\n",
    "table, th, td\n",
    "{\n",
    "  font-family:Arial, Helvetica, sans-serif;\n",
    "  border: 1px solid black;\n",
    "  text-align: right;\n",
    "}\n",
    "\"\"\"\n",
    "\n",
    "# tooltip = plugins.PointHTMLTooltip(points[0], labels,\n",
    "#                                    voffset=10, hoffset=10, css=css)\n",
    "# plugins.connect(fig, tooltip)\n",
    "\n",
    "# mpld3.show()\n"
   ]
  },
  {
   "cell_type": "markdown",
   "metadata": {},
   "source": [
    "- There are virtually double the amount of timeouts during the 4th quarter (as expected). When the games are close, timeouts during the 4th quarter are crucial to draw plays on almost a posession by possesion basis. Because of this I think it might be more productive to separate the 4th from the first three quarters in further analysis.\n",
    "- These are interesting peaks. However: There must be two timeouts in each quarter. In each quarter, if no team has called a timeout before the 6:59 mark, a timeout is charged to the home team, and if no subsequent timeout is taken prior to the 2:59 mark, a timeout is charged to the team not previously charged with a timeout. The first and second timeouts in each quarter are two minutes 45 seconds for locally televised games, and three minutes 15 seconds for nationally televised games. Other timeouts in a quarter are one minute 15 seconds in length.\n",
    "- If this last statement is true, these peaks should be biased if we separate between home and away timeouts.\n",
    "\n"
   ]
  },
  {
   "cell_type": "code",
   "execution_count": null,
   "metadata": {
    "scrolled": true
   },
   "outputs": [],
   "source": [
    "# Plot timeouts by time left in the quarter and which team asked for it. \n",
    "home_timeouts = timeouts.loc[timeouts['HOMEDESCRIPTION'].str.contains(\"Timeout\", na=False)]\n",
    "away_timeouts = timeouts.loc[timeouts['VISITORDESCRIPTION'].str.contains(\"Timeout\", na=False)]\n",
    "\n",
    "\n",
    "plt.figure()\n",
    "plt.title('Number of timeouts asked by time left in quarter')\n",
    "plt.xlabel('Time left in period')\n",
    "plt.ylabel('Counts')\n",
    "plt.xticks(np.linspace(0, 720, num=13), range(0, 13))\n",
    "\n",
    "plt.hist(away_timeouts['PCTIMESTRING'], bins= 96)\n",
    "plt.hist(home_timeouts['PCTIMESTRING'], bins= 96, alpha=0.7);\n"
   ]
  },
  {
   "cell_type": "markdown",
   "metadata": {},
   "source": [
    "Like we mentioned before, there are many more timeouts in the 4th quarter and if you watch basketball you understand that 4th quarter timeouts are fundamentally different from the ones taken before."
   ]
  },
  {
   "cell_type": "code",
   "execution_count": null,
   "metadata": {},
   "outputs": [],
   "source": [
    "# Let's filter timeout times by period.\n",
    "plt.figure()\n",
    "plt.title('Number of timeouts asked by time left in the quarter')\n",
    "plt.xlabel('Time left in period')\n",
    "plt.ylabel('Counts')\n",
    "#plt.xticks(np.linspace(0, 720, num=13), range(0, 13))\n",
    "\n",
    "\n",
    "temp1 = timeouts.query('PERIOD == 1')\n",
    "temp2 = timeouts.query('PERIOD == 2')\n",
    "temp3 = timeouts.query('PERIOD == 3')\n",
    "temp4 = timeouts.query('PERIOD >= 4')\n",
    "\n",
    "plt.hist(temp3['PCTIMESTRING'], bins= 96);\n",
    "\n"
   ]
  },
  {
   "cell_type": "markdown",
   "metadata": {},
   "source": [
    "- Don't forget to make a subplot figure out of each quarter distribution.\n",
    "- What we can observe is that the shapes are similar for periods 1 thru 3 and significantly different for the 4th.\n",
    "- This suggest we should approach any analysis separately."
   ]
  },
  {
   "cell_type": "markdown",
   "metadata": {},
   "source": [
    "# Scores surrouding timeouts\n",
    "- If we want to look at scoring effects surrounding timeouts.\n",
    "- First let's look at just the absolute score margins when the home/away teams call for timeout."
   ]
  },
  {
   "cell_type": "code",
   "execution_count": null,
   "metadata": {
    "scrolled": false
   },
   "outputs": [],
   "source": [
    "home_timeout_margins = home_timeouts['SCOREMARGIN']\n",
    "away_timeout_margins = away_timeouts['SCOREMARGIN']\n",
    "\n",
    "\n",
    "plt.figure()\n",
    "plt.title('Score differential at the timeout')\n",
    "plt.xlabel('Point difference (+home, -away)')\n",
    "plt.ylabel('Counts')\n",
    "plt.hist(home_timeouts['SCOREMARGIN'], bins=50, range=(-25, 25))\n",
    "plt.hist(away_timeouts['SCOREMARGIN'], bins=50, range=(-25, 25));\n",
    "\n",
    "plt.figure()\n",
    "plt.title('Score differential at the timeout')\n",
    "plt.xlabel('Point difference (+win, -lose)')\n",
    "plt.ylabel('Counts')\n",
    "\n",
    "# Here we used concat because we wanted to multiply the away timeouts only and then use the hometimeouts.\n",
    "plt.hist(pd.concat([home_timeouts['SCOREMARGIN'], away_timeouts['SCOREMARGIN']*-1]), bins=50, range=(-25, 25));"
   ]
  },
  {
   "cell_type": "markdown",
   "metadata": {},
   "source": [
    "- Those twin peaks are quite interesting. They are both slightly shifted from zero but in opposite directions. \n",
    "- If we take the absolute score differential for only the away team, we can pool all the timeouts together.\n",
    "- That reveals a more obvious shift to the negative side. This means that most timeouts are asked when losing. Also, nothing new here, but it is a nice confirmation.\n",
    "\n",
    "- This could be another source of separating data for more analysis (for example, take only timeouts when it was a single digit game."
   ]
  },
  {
   "cell_type": "markdown",
   "metadata": {},
   "source": [
    "# Timeout-triggered averages\n",
    "- One of our main goals was to look at the evolution of the score in a variable window of time around a timeout.\n",
    "- This means that we need to slice pieces of data based on when timeouts happen. \n",
    "- To me, as of right now, the best way seems to be creating a function that takes in specific indices of events (in this case timeouts) and returns the whatever desired data we want in a window of interest."
   ]
  },
  {
   "cell_type": "code",
   "execution_count": null,
   "metadata": {},
   "outputs": [],
   "source": [
    "# Okay so apparently this function takes in data, the location (by index) of and event in the data and a window in seconds.\n",
    "# Returns a selection of the data leading up to that event based on the window provided.\n",
    "\n",
    "def select_window(data, location, window):\n",
    "    \n",
    "    # our window is gonna be by time in seconds\n",
    "    # but for each event there might not be enough window for before and after\n",
    "    # in those cases, we will take until the start or end of the quarter.\n",
    "    \n",
    "    time_left = data.loc[location, 'PCTIMESTRING']\n",
    "    \n",
    "    # we will calculate a lower limit but for now only look at the time leading up to a timeout (before)\n",
    "    if time_left - window < 0:\n",
    "        lower = 0\n",
    "    else:\n",
    "        lower = time_left - window\n",
    "        \n",
    "    \n",
    "    if time_left + window > 720:\n",
    "        upper = 720\n",
    "    else:\n",
    "        upper = time_left + window\n",
    "        \n",
    "    data['TIMERELATIVE'] = (data['PCTIMESTRING'] - time_left)*-1\n",
    "    \n",
    "    selection = data[(data['GAME_ID'] == data.loc[location, 'GAME_ID']) & (data['PERIOD'] == data.loc[location, 'PERIOD']) & (data['PCTIMESTRING'] >= lower) & (data['PCTIMESTRING'] <= upper)]\n",
    "    \n",
    "    return selection\n",
    "\n",
    "    \n"
   ]
  },
  {
   "cell_type": "code",
   "execution_count": null,
   "metadata": {},
   "outputs": [],
   "source": [
    "# Before we generalize too much! Let's just make one function to get us a plot of DELTAMARGIN around a window.\n",
    "\n",
    "window = 90\n",
    "\n",
    "score_margin = []\n",
    "start_margin = []\n",
    "timeout_margin = []\n",
    "end_margin = []\n",
    "time_to_timeout = []\n",
    "\n",
    "indices = home_timeouts.query('PERIOD < 4').index.values\n",
    "print(len(indices))\n",
    "print(indices)\n",
    "\n",
    "\n",
    "for x in indices:\n",
    "    \n",
    "    selection = select_window(data, x, window)        \n",
    "    start_margin.append(selection['SCOREMARGIN'].iloc[0])\n",
    "    end_margin.append(selection['SCOREMARGIN'].iloc[-1])\n",
    "    margin = selection['SCOREMARGIN'] - selection['SCOREMARGIN'].iloc[0]\n",
    "    time_to_timeout.extend(list(selection['TIMERELATIVE']))\n",
    "    score_margin.extend(list(margin))\n",
    "    \n",
    "    \n",
    "        \n",
    "        "
   ]
  },
  {
   "cell_type": "code",
   "execution_count": null,
   "metadata": {},
   "outputs": [],
   "source": [
    "binned_avg = stats.binned_statistic(time_to_timeout, score_margin, statistic='mean', bins= window*2)\n",
    "binned_stdev = stats.binned_statistic(time_to_timeout, score_margin, statistic='std', bins= window*2)\n",
    "\n",
    "plt.figure()\n",
    "plt.xlabel('Time (s)')\n",
    "plt.ylabel('Score Margin')\n",
    "# plt.fill_between(range(window*2), binned_avg[0] - binned_stdev[0], binned_avg[0] + binned_stdev[0])\n",
    "plt.plot(binned_avg[0], lw= 2, c='k');"
   ]
  },
  {
   "cell_type": "markdown",
   "metadata": {},
   "source": [
    "# OMG.\n",
    "- This will beatufully fit exponential functions.\n",
    "- I also think timeouts taken in between free throws are introducting the big jumps in the middle. You should totally quantify this.\n",
    "- But now I don't know anymore. I think it's something different now. I think that aligning data to the timeout also aligns posessions at that time point. This means that usually the opposing team scored, then team calls timeout, then the ball is theirs, with a plan. That's what I think\n",
    "- I don't think so."
   ]
  },
  {
   "cell_type": "code",
   "execution_count": null,
   "metadata": {},
   "outputs": [],
   "source": [
    "data.dtypes"
   ]
  },
  {
   "cell_type": "markdown",
   "metadata": {},
   "source": [
    "- Out of curiosity I want to see the change in score diff?"
   ]
  },
  {
   "cell_type": "code",
   "execution_count": null,
   "metadata": {},
   "outputs": [],
   "source": [
    "plt.figure()\n",
    "plt.title('Score differential at the timeout')\n",
    "plt.xlabel('Point difference (+home, -away)')\n",
    "plt.ylabel('Counts')\n",
    "plt.hist(away_timeouts['SCOREMARGIN'], bins=80, range=(-40, 40))\n",
    "plt.hist(end_margin, bins=80, range=(-40, 40), alpha=0.6);\n",
    "\n",
    "diff1 = away_timeouts['SCOREMARGIN'] - start_margin\n",
    "diff2 = end_margin - away_timeouts['SCOREMARGIN']\n",
    "print(len(diff1))\n",
    "\n",
    "plt.figure()\n",
    "plt.title('Score differential at the timeout')\n",
    "plt.xlabel('Change in score margin')\n",
    "plt.ylabel('Counts')\n",
    "plt.hist(diff1, bins=20, range=(-10, 10))\n",
    "plt.hist(diff2, bins=20, range=(-10, 10), alpha=.8);\n",
    "\n",
    "\n"
   ]
  },
  {
   "cell_type": "markdown",
   "metadata": {},
   "source": [
    "- This last plot is interesting. There is a shignificant shift rightward suggesting, for now, that timeouts indeed do generally help.\n",
    "- One thing I could do next is look at which are the timeouts that were most succesful and look at their past?\n"
   ]
  }
 ],
 "metadata": {
  "kernelspec": {
   "display_name": "Python 3",
   "language": "python",
   "name": "python3"
  },
  "language_info": {
   "codemirror_mode": {
    "name": "ipython",
    "version": 3
   },
   "file_extension": ".py",
   "mimetype": "text/x-python",
   "name": "python",
   "nbconvert_exporter": "python",
   "pygments_lexer": "ipython3",
   "version": "3.7.3"
  }
 },
 "nbformat": 4,
 "nbformat_minor": 2
}
